{
  "nbformat": 4,
  "nbformat_minor": 0,
  "metadata": {
    "colab": {
      "name": "Ejercicios básicos visión por computadora.ipynb",
      "provenance": [],
      "collapsed_sections": [
        "ZbfrLx08oN1Z"
      ],
      "toc_visible": true
    },
    "kernelspec": {
      "name": "python3",
      "display_name": "Python 3"
    }
  },
  "cells": [
    {
      "cell_type": "markdown",
      "metadata": {
        "id": "1DHv6S3ioKoO",
        "colab_type": "text"
      },
      "source": [
        "#Ejercicios"
      ]
    },
    {
      "cell_type": "markdown",
      "metadata": {
        "id": "ZbfrLx08oN1Z",
        "colab_type": "text"
      },
      "source": [
        "##Matplotlib Gráficas"
      ]
    },
    {
      "cell_type": "code",
      "metadata": {
        "id": "hfhfPx2hoSO8",
        "colab_type": "code",
        "outputId": "98001e11-26ea-4997-8cfe-1eed8876d1f0",
        "colab": {
          "base_uri": "https://localhost:8080/",
          "height": 265
        }
      },
      "source": [
        "import matplotlib.pyplot as plt\n",
        "plt.plot([10, 20, 40, 20])\n",
        "plt.ylabel(\"grafico basico\")\n",
        "plt.show()"
      ],
      "execution_count": 0,
      "outputs": [
        {
          "output_type": "display_data",
          "data": {
            "image/png": "[encoded data removed]",
            "text/plain": [
              "<Figure size 432x288 with 1 Axes>"
            ]
          },
          "metadata": {
            "tags": []
          }
        }
      ]
    },
    {
      "cell_type": "code",
      "metadata": {
        "id": "5O6nDnrzoqbg",
        "colab_type": "code",
        "outputId": "43a7f32b-bb04-4767-fa95-d6d1bedc33c5",
        "colab": {
          "base_uri": "https://localhost:8080/",
          "height": 265
        }
      },
      "source": [
        "import matplotlib.pyplot as plt;import random;\n",
        "lista= [ random.randrange(10) for i in range(10)]\n",
        "plt.plot(lista,'ro')\n",
        "plt.ylabel(\"números randomicos de 0 a 10\")\n",
        "plt.show()"
      ],
      "execution_count": 0,
      "outputs": [
        {
          "output_type": "display_data",
          "data": {
            "image/png": "[encoded data removed]",
            "text/plain": [
              "<Figure size 432x288 with 1 Axes>"
            ]
          },
          "metadata": {
            "tags": []
          }
        }
      ]
    },
    {
      "cell_type": "code",
      "metadata": {
        "id": "SMOERzTepglz",
        "colab_type": "code",
        "outputId": "400f1a0a-5054-4e79-e3e5-d237c1b05eb7",
        "colab": {
          "base_uri": "https://localhost:8080/",
          "height": 279
        }
      },
      "source": [
        "import numpy as np ; from random import randint; import matplotlib.pyplot as plt\n",
        "matriz = np.array([[i+1, randint(1,20000)] for i in range(5)])\n",
        "ganador= np.where(matriz == matriz[:,1].max())\n",
        "#Diagrama de Barras\n",
        "fig = plt.figure('Gráfica de barras') #Generacion de ventana\n",
        "ax = fig.add_subplot(1,1,1) #Un eje coordenado\n",
        "nombres = ['Liberal','Conservador','A.Verde','P.Democrático','C.Radical']#Arreglo con los partidos\n",
        "ax.bar(range(len(matriz)),matriz[:,1])#Funcion var para diagramar, con parametros de votos y puntos a ubicar\n",
        "ax.set_xticks(range(len(matriz[:,1]))) #Numero de puntos a ubicar\n",
        "ax.set_xticklabels(nombres) #Agregar etiquetas a cada punto ubicado en el eje x\n",
        "plt.ylabel(\"Total votos\");plt.xlabel(\"Candidatos\")\n",
        "plt.show()"
      ],
      "execution_count": 0,
      "outputs": [
        {
          "output_type": "display_data",
          "data": {
            "image/png": "[encoded data removed]",
            "text/plain": [
              "<Figure size 432x288 with 1 Axes>"
            ]
          },
          "metadata": {
            "tags": []
          }
        }
      ]
    },
    {
      "cell_type": "code",
      "metadata": {
        "id": "Q4wRadgLp5j7",
        "colab_type": "code",
        "outputId": "8b14f30e-ffa4-49cb-bce2-d71ab5f869e9",
        "colab": {
          "base_uri": "https://localhost:8080/",
          "height": 265
        }
      },
      "source": [
        "import numpy as np\n",
        "matriz = np.random.uniform(8.2,10,size=(4,5))\n",
        "tot_vueltas = np.array([[corredor+1,matriz[:,corredor].sum()] for corredor in range(len(matriz[0]))])\n",
        "ganador = np.where(matriz == matriz[:,1].min())\n",
        "#Diagrama de dispersion\n",
        "x = tot_vueltas[:,1]\n",
        "y = tot_vueltas[:,0]\n",
        "fig = plt.figure()\n",
        "fig.add_subplot(111)\n",
        "plt.scatter(y, x, c=x)\n",
        "plt.show()"
      ],
      "execution_count": 0,
      "outputs": [
        {
          "output_type": "display_data",
          "data": {
            "image/png": "[encoded data removed]",
            "text/plain": [
              "<Figure size 432x288 with 1 Axes>"
            ]
          },
          "metadata": {
            "tags": []
          }
        }
      ]
    },
    {
      "cell_type": "markdown",
      "metadata": {
        "id": "I0CLgONLx0Zk",
        "colab_type": "text"
      },
      "source": [
        "##Opencv"
      ]
    },
    {
      "cell_type": "code",
      "metadata": {
        "id": "1kgLcX_Rx-X4",
        "colab_type": "code",
        "outputId": "ed7cc200-423e-453e-89f4-6d6fb8930f7c",
        "colab": {
          "base_uri": "https://localhost:8080/",
          "height": 129
        }
      },
      "source": [
        "from google.colab import drive\n",
        "drive.mount('/content/drive')"
      ],
      "execution_count": 0,
      "outputs": [
        {
          "output_type": "stream",
          "text": [
            "Go to this URL in a browser: https://accounts.google.com/o/oauth2/auth?client_id=947318989803-6bn6qk8qdgf4n4g3pfee6491hc0brc4i.apps.googleusercontent.com&redirect_uri=urn%3aietf%3awg%3aoauth%3a2.0%3aoob&response_type=code&scope=email%20https%3a%2f%2fwww.googleapis.com%2fauth%2fdocs.test%20https%3a%2f%2fwww.googleapis.com%2fauth%2fdrive%20https%3a%2f%2fwww.googleapis.com%2fauth%2fdrive.photos.readonly%20https%3a%2f%2fwww.googleapis.com%2fauth%2fpeopleapi.readonly\n",
            "\n",
            "Enter your authorization code:\n",
            "··········\n",
            "Mounted at /content/drive\n"
          ],
          "name": "stdout"
        }
      ]
    },
    {
      "cell_type": "code",
      "metadata": {
        "id": "ehFN9EhCz1Qq",
        "colab_type": "code",
        "outputId": "5b647487-950e-4de9-ec44-3162ccbf3dee",
        "colab": {
          "base_uri": "https://localhost:8080/",
          "height": 54
        }
      },
      "source": [
        "import cv2\n",
        "import numpy as np\n",
        "img = cv2.imread(\"/content/drive/My Drive/UPB_deep_learning_201902/Trabajos/JavierDuarte/imagenes/imagen1.jpg\")\n",
        "if img.size == 0:\n",
        "  print(\"Error: the image has not been correctly loaded.\")\n",
        "else:\n",
        "  print('Image Dimension : ',img.shape)\n",
        "  print (\"height: \",str(img.shape[0]), \", width: \", img.shape[1], \" Numbers of channels:\", img.shape[2])\n",
        "  processed_image = cv2.cvtColor(img, cv2.COLOR_BGR2GRAY)\n",
        "  cv2.imwrite('/content/drive/My Drive/UPB_deep_learning_201902/Trabajos/JavierDuarte/imagenes/processed_image2.png', processed_image)\n",
        "  #extract RED channel\n",
        "  red_channel = img[:,:,2]\n",
        "  #extract green channel\n",
        "  green_channel = img[:,:,1]\n",
        "  #extract blue channel\n",
        "  blue_channel = img[:,:,0]\n",
        "  #create images\n",
        "  cv2.imwrite('/content/drive/My Drive/UPB_deep_learning_201902/Trabajos/JavierDuarte/imagenes/processed_image_red.png', red_channel)\n",
        "  cv2.imwrite('/content/drive/My Drive/UPB_deep_learning_201902/Trabajos/JavierDuarte/imagenes/processed_image_green.png', green_channel)\n",
        "  cv2.imwrite('/content/drive/My Drive/UPB_deep_learning_201902/Trabajos/JavierDuarte/imagenes/processed_image_blue.png', blue_channel)\n"
      ],
      "execution_count": 0,
      "outputs": [
        {
          "output_type": "stream",
          "text": [
            "Image Dimension :  (1000, 1000, 3)\n",
            "height:  1000 , width:  1000  Numbers of channels: 3\n"
          ],
          "name": "stdout"
        }
      ]
    },
    {
      "cell_type": "markdown",
      "metadata": {
        "id": "LsWg5ifT5o9b",
        "colab_type": "text"
      },
      "source": [
        "##Resaltando color\n"
      ]
    },
    {
      "cell_type": "code",
      "metadata": {
        "id": "3qJJQdKh5sBe",
        "colab_type": "code",
        "outputId": "c7da194d-0dc2-44f2-ae8c-593bb30446f1",
        "colab": {
          "base_uri": "https://localhost:8080/",
          "height": 241
        }
      },
      "source": [
        "import cv2;import numpy as np;\n",
        "img = cv2.imread(\"/content/drive/My Drive/UPB_deep_learning_201902/Trabajos/JavierDuarte/imagenes/imagen2.jpg\")\n",
        "if img.size == 0:\n",
        "  print(\"Error: the image has not been correctly loaded.\")\n",
        "else:\n",
        "  print('Image Dimension : ',img.shape)\n",
        "  print (\"height: \",str(img.shape[0]), \", width: \", img.shape[1], \" Numbers of channels:\", img.shape[2])\n",
        "  processed_image = cv2.cvtColor(img, cv2.COLOR_BGR2GRAY)\n",
        "  #separate channels\n",
        "  clearchannels = img\n",
        "  #highlighting color\n",
        "  for x in range(0,img.shape[0]):\n",
        "    for y in range(0,img.shape[1]):\n",
        "      b=int(clearchannels[:,:,0][x,y])\n",
        "      g=int(clearchannels[:,:,1][x,y])\n",
        "      r=int(clearchannels[:,:,2][x,y])\n",
        "      d1=abs(b-r)\n",
        "      d2=abs(r-g)\n",
        "      d3=abs(b-g) \n",
        "      max_delta = 40\n",
        "      if(\n",
        "          #d1<max_delta or\n",
        "          d2<max_delta \n",
        "         or d3<max_delta\n",
        "         ):\n",
        "        #clearchannels[:,:,0][x,y] = 0\n",
        "        clearchannels[:,:,1][x,y] = 0\n",
        "        #clearchannels[:,:,2][x,y] = 0\n",
        "\n",
        "  clearchannels[:,:,0] = [[0 for n in range(0,img.shape[1])] for j in range(0,img.shape[0])]\n",
        "  #clearchannels[:,:,1] = [[0 for n in range(0,img.shape[1])] for j in range(0,img.shape[0])]\n",
        "  clearchannels[:,:,2] = [[0 for n in range(0,img.shape[1])] for j in range(0,img.shape[0])]\n",
        "  #to rgb and blend\n",
        "  processed_image = cv2.cvtColor(processed_image, cv2.COLOR_GRAY2RGB)\n",
        "  mixed = cv2.addWeighted(processed_image, 0.5, clearchannels, 0.5, 0) \n",
        "  #create images\n",
        "  cv2.imwrite('/content/drive/My Drive/UPB_deep_learning_201902/Trabajos/JavierDuarte/imagenes/processed_image_mixed.png', mixed)"
      ],
      "execution_count": 0,
      "outputs": [
        {
          "output_type": "error",
          "ename": "AttributeError",
          "evalue": "ignored",
          "traceback": [
            "\u001b[0;31m---------------------------------------------------------------------------\u001b[0m",
            "\u001b[0;31mAttributeError\u001b[0m                            Traceback (most recent call last)",
            "\u001b[0;32m<ipython-input-1-b4ce050c743a>\u001b[0m in \u001b[0;36m<module>\u001b[0;34m()\u001b[0m\n\u001b[1;32m      1\u001b[0m \u001b[0;32mimport\u001b[0m \u001b[0mcv2\u001b[0m\u001b[0;34m;\u001b[0m\u001b[0;32mimport\u001b[0m \u001b[0mnumpy\u001b[0m \u001b[0;32mas\u001b[0m \u001b[0mnp\u001b[0m\u001b[0;34m;\u001b[0m\u001b[0;34m\u001b[0m\u001b[0;34m\u001b[0m\u001b[0m\n\u001b[1;32m      2\u001b[0m \u001b[0mimg\u001b[0m \u001b[0;34m=\u001b[0m \u001b[0mcv2\u001b[0m\u001b[0;34m.\u001b[0m\u001b[0mimread\u001b[0m\u001b[0;34m(\u001b[0m\u001b[0;34m\"/content/drive/My Drive/UPB_201902/Trabajos/JavierDuarte/imagenes/imagen2.jpg\"\u001b[0m\u001b[0;34m)\u001b[0m\u001b[0;34m\u001b[0m\u001b[0;34m\u001b[0m\u001b[0m\n\u001b[0;32m----> 3\u001b[0;31m \u001b[0;32mif\u001b[0m \u001b[0mimg\u001b[0m\u001b[0;34m.\u001b[0m\u001b[0msize\u001b[0m \u001b[0;34m==\u001b[0m \u001b[0;36m0\u001b[0m\u001b[0;34m:\u001b[0m\u001b[0;34m\u001b[0m\u001b[0;34m\u001b[0m\u001b[0m\n\u001b[0m\u001b[1;32m      4\u001b[0m   \u001b[0mprint\u001b[0m\u001b[0;34m(\u001b[0m\u001b[0;34m\"Error: the image has not been correctly loaded.\"\u001b[0m\u001b[0;34m)\u001b[0m\u001b[0;34m\u001b[0m\u001b[0;34m\u001b[0m\u001b[0m\n\u001b[1;32m      5\u001b[0m \u001b[0;32melse\u001b[0m\u001b[0;34m:\u001b[0m\u001b[0;34m\u001b[0m\u001b[0;34m\u001b[0m\u001b[0m\n",
            "\u001b[0;31mAttributeError\u001b[0m: 'NoneType' object has no attribute 'size'"
          ]
        }
      ]
    }
  ]
}